{
 "cells": [
  {
   "cell_type": "code",
   "execution_count": 2,
   "metadata": {},
   "outputs": [],
   "source": [
    "import pandas as pd\n",
    "\n",
    "CSV_FILE = 'test_results_july3.csv'\n",
    "\n",
    "# Read the CSV file into a DataFrame\n",
    "df = pd.read_csv(CSV_FILE)\n",
    "\n",
    "df['timestamp'] = pd.to_datetime(df['timestamp'])\n",
    "\n",
    "# Define the filter condition\n",
    "filter_condition = (\n",
    "    (~df['ModelName'].str.startswith('gpt')) & \n",
    "    (df['chunking_detail'] == '1000_20_3') &\n",
    "    (df['timestamp'] <= pd.to_datetime('2024-07-19 17:12:27'))\n",
    ")\n",
    "# Filter out the rows based on the conditions\n",
    "df_trimmed = df[~filter_condition]\n",
    "\n",
    "# Save the trimmed DataFrame back to the CSV file\n",
    "df_trimmed.to_csv(CSV_FILE, index=False)\n"
   ]
  }
 ],
 "metadata": {
  "kernelspec": {
   "display_name": "venv",
   "language": "python",
   "name": "python3"
  },
  "language_info": {
   "codemirror_mode": {
    "name": "ipython",
    "version": 3
   },
   "file_extension": ".py",
   "mimetype": "text/x-python",
   "name": "python",
   "nbconvert_exporter": "python",
   "pygments_lexer": "ipython3",
   "version": "3.12.3"
  }
 },
 "nbformat": 4,
 "nbformat_minor": 2
}
