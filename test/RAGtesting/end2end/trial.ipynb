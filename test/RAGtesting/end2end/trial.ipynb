{
 "cells": [
  {
   "cell_type": "code",
   "execution_count": 1,
   "metadata": {},
   "outputs": [
    {
     "name": "stdout",
     "output_type": "stream",
     "text": [
      "Run(id='run_SYkou0usONxnlrcRxlhBUhAK', assistant_id='asst_DinWhvsQlMKZfA47pCK9zyR9', cancelled_at=None, completed_at=None, created_at=1718166972, expires_at=1718167572, failed_at=None, incomplete_details=None, instructions='You will receive a chunk for editing. The chunk is from slides, course materials, and so on. They are subject to lack to textual details. Your tasks are to:\\n\\n1. Remove any unnecessary and unrelated information.\\n2. Expand on topics that are missing details.\\n3. Move existing identifying information into object title.\\n4. Format the document chunks appropriately.\\n\\nExample: \\nOriginal chunk: COSC 121. Page 5\\nDataInputStream\\nWraps around FileInputStream\\n▪ It reads bytes from the input stream → interprets binary data \\n  as primitive types or strings.\\nDataInputStream in =\\nnew DataInputStream(new FileInputStream(“file.dat”));\\nStream chaining is a way of connecting several stream classes \\ntogether to get the data in the form required\\nFileInputStream DataInputStream\\n01001101...\\nint, double, String, ...\\nDataInputStream\\nreadInt() – int(4 bytes)\\n...other methods\\nFileInputStream\\nread() - one byte\\n\\nReturned list json objects: \\n\\n  { \"DataInputStream Overview\": \"DataInputStream wraps around FileInputStream. It reads bytes from the input stream and interprets binary data as primitive types or strings.\\\\nExample:\\\\nDataInputStream in = new DataInputStream(new FileInputStream(\\'file.dat\\'));\" },\\n  { \"Stream Chaining\": \"Stream chaining is a way of connecting several stream classes together to get the data in the form required.\\\\nComponents:\\\\n- FileInputStream\\\\n- DataInputStream\\\\nExample:\\\\nFileInputStream DataInputStream\\\\nBinary Data: 01001101...\\\\nData Types: int, double, String, etc.\" }\\n', last_error=None, max_completion_tokens=None, max_prompt_tokens=None, metadata={}, model='gpt-3.5-turbo-0125', object='thread.run', required_action=None, response_format=AssistantResponseFormat(type='json_object'), started_at=None, status='queued', thread_id='thread_yaPgJefbYRb2JRvTJVfKQD59', tool_choice='auto', tools=[], truncation_strategy=TruncationStrategy(type='auto', last_messages=None), usage=None, temperature=1.0, top_p=1.0, tool_resources={}, parallel_tool_calls=True)\n"
     ]
    }
   ],
   "source": [
    "from openai import OpenAI\n",
    "client = OpenAI()\n",
    "\n",
    "run = client.beta.threads.create_and_run(\n",
    "    assistant_id=\"asst_DinWhvsQlMKZfA47pCK9zyR9\",\n",
    "    thread={\n",
    "        \"messages\": [\n",
    "            {\"role\": \"user\", \"content\": \"Explain deep learning to a 5 year old.\"}\n",
    "        ]\n",
    "    }\n",
    ")\n",
    "\n",
    "print(run)\n"
   ]
  },
  {
   "cell_type": "code",
   "execution_count": 3,
   "metadata": {},
   "outputs": [],
   "source": [
    "runs = client.beta.threads.runs.list(\n",
    "  \"thread_yaPgJefbYRb2JRvTJVfKQD59\"\n",
    ")"
   ]
  },
  {
   "cell_type": "code",
   "execution_count": 6,
   "metadata": {},
   "outputs": [
    {
     "name": "stdout",
     "output_type": "stream",
     "text": [
      "SyncCursorPage[Run](data=[Run(id='run_SYkou0usONxnlrcRxlhBUhAK', assistant_id='asst_DinWhvsQlMKZfA47pCK9zyR9', cancelled_at=None, completed_at=1718166974, created_at=1718166972, expires_at=None, failed_at=None, incomplete_details=None, instructions='You will receive a chunk for editing. The chunk is from slides, course materials, and so on. They are subject to lack to textual details. Your tasks are to:\\n\\n1. Remove any unnecessary and unrelated information.\\n2. Expand on topics that are missing details.\\n3. Move existing identifying information into object title.\\n4. Format the document chunks appropriately.\\n\\nExample: \\nOriginal chunk: COSC 121. Page 5\\nDataInputStream\\nWraps around FileInputStream\\n▪ It reads bytes from the input stream → interprets binary data \\n  as primitive types or strings.\\nDataInputStream in =\\nnew DataInputStream(new FileInputStream(“file.dat”));\\nStream chaining is a way of connecting several stream classes \\ntogether to get the data in the form required\\nFileInputStream DataInputStream\\n01001101...\\nint, double, String, ...\\nDataInputStream\\nreadInt() – int(4 bytes)\\n...other methods\\nFileInputStream\\nread() - one byte\\n\\nReturned list json objects: \\n\\n  { \"DataInputStream Overview\": \"DataInputStream wraps around FileInputStream. It reads bytes from the input stream and interprets binary data as primitive types or strings.\\\\nExample:\\\\nDataInputStream in = new DataInputStream(new FileInputStream(\\'file.dat\\'));\" },\\n  { \"Stream Chaining\": \"Stream chaining is a way of connecting several stream classes together to get the data in the form required.\\\\nComponents:\\\\n- FileInputStream\\\\n- DataInputStream\\\\nExample:\\\\nFileInputStream DataInputStream\\\\nBinary Data: 01001101...\\\\nData Types: int, double, String, etc.\" }\\n', last_error=None, max_completion_tokens=None, max_prompt_tokens=None, metadata={}, model='gpt-3.5-turbo-0125', object='thread.run', required_action=None, response_format=AssistantResponseFormat(type='json_object'), started_at=1718166973, status='completed', thread_id='thread_yaPgJefbYRb2JRvTJVfKQD59', tool_choice='auto', tools=[], truncation_strategy=TruncationStrategy(type='auto', last_messages=None), usage=Usage(completion_tokens=72, prompt_tokens=345, total_tokens=417), temperature=1.0, top_p=1.0, tool_resources={}, parallel_tool_calls=True)], object='list', first_id='run_SYkou0usONxnlrcRxlhBUhAK', last_id='run_SYkou0usONxnlrcRxlhBUhAK', has_more=False)\n"
     ]
    }
   ],
   "source": [
    "import pprint\n",
    "pprint.pp(runs)"
   ]
  },
  {
   "cell_type": "code",
   "execution_count": 7,
   "metadata": {},
   "outputs": [
    {
     "name": "stdout",
     "output_type": "stream",
     "text": [
      "[Message(id='msg_4NQqG1lv6lXJUr4kyNZVF8J3', assistant_id='asst_DinWhvsQlMKZfA47pCK9zyR9', attachments=[], completed_at=None, content=[TextContentBlock(text=Text(annotations=[], value='{ \"Explanation of Deep Learning\": \"Deep learning is like teaching a computer to learn from examples, just like how you learn from your mistakes. The computer uses a lot of examples to understand things better, similar to how you practice coloring to get better at it. With more practice, the computer gets smarter and can do different tasks on its own.\" }'), type='text')], created_at=1718166973, incomplete_at=None, incomplete_details=None, metadata={}, object='thread.message', role='assistant', run_id='run_SYkou0usONxnlrcRxlhBUhAK', status=None, thread_id='thread_yaPgJefbYRb2JRvTJVfKQD59'), Message(id='msg_SoQkaZ1FUpTrZtm3sMG7FunA', assistant_id=None, attachments=[], completed_at=None, content=[TextContentBlock(text=Text(annotations=[], value='Explain deep learning to a 5 year old.'), type='text')], created_at=1718166972, incomplete_at=None, incomplete_details=None, metadata={}, object='thread.message', role='user', run_id=None, status=None, thread_id='thread_yaPgJefbYRb2JRvTJVfKQD59')]\n"
     ]
    }
   ],
   "source": [
    "from openai import OpenAI\n",
    "client = OpenAI()\n",
    "\n",
    "thread_messages = client.beta.threads.messages.list(\"thread_yaPgJefbYRb2JRvTJVfKQD59\")\n",
    "print(thread_messages.data)\n"
   ]
  },
  {
   "cell_type": "code",
   "execution_count": 9,
   "metadata": {},
   "outputs": [
    {
     "name": "stdout",
     "output_type": "stream",
     "text": [
      "Message(id='msg_QmAKR4XhRebeXYbooq8eRo5V', assistant_id=None, attachments=[], completed_at=None, content=[TextContentBlock(text=Text(annotations=[], value='\\nCOSC 121. Page 16\\nIn order to create a clone of an object (i.e., a field-for-field copy of the \\nobject), a class must implement the Cloneableinterface.\\n▪By convention, classes that implement this interface should override \\nObject.clone(which is protected) with a publicmethod\\nCloneable'), type='text')], created_at=1718167450, incomplete_at=None, incomplete_details=None, metadata={}, object='thread.message', role='user', run_id=None, status=None, thread_id='thread_3bwfbAUbHXL27mN1eDOjZmbg')\n"
     ]
    }
   ],
   "source": [
    "from openai import OpenAI\n",
    "client = OpenAI()\n",
    "empty_thread = client.beta.threads.create()\n",
    "\n",
    "thread_message = client.beta.threads.messages.create(\n",
    "  empty_thread.id ,\n",
    "  role=\"user\",\n",
    "  content=\"\"\"\n",
    "COSC 121. Page 16\n",
    "In order to create a clone of an object (i.e., a field-for-field copy of the \n",
    "object), a class must implement the Cloneableinterface.\n",
    "▪By convention, classes that implement this interface should override \n",
    "Object.clone(which is protected) with a publicmethod\n",
    "Cloneable\"\"\",\n",
    ")\n",
    "print(thread_message)\n"
   ]
  },
  {
   "cell_type": "code",
   "execution_count": 14,
   "metadata": {},
   "outputs": [
    {
     "name": "stdout",
     "output_type": "stream",
     "text": [
      "[Message(id='msg_Cl1PPYorzruoHZe23oPP9S2s', assistant_id='asst_DinWhvsQlMKZfA47pCK9zyR9', attachments=[], completed_at=None, content=[TextContentBlock(text=Text(annotations=[], value='{\\n    \"Cloning Objects\": \"To create a clone of an object, a class must implement the Cloneable interface. By convention, classes that implement this interface should override the protected Object.clone method with a public method named clone.\"\\n}'), type='text')], created_at=1718167690, incomplete_at=None, incomplete_details=None, metadata={}, object='thread.message', role='assistant', run_id='run_AY8yxDvHNHUBgh5nLbbg4XpH', status=None, thread_id='thread_3bwfbAUbHXL27mN1eDOjZmbg'), Message(id='msg_QmAKR4XhRebeXYbooq8eRo5V', assistant_id=None, attachments=[], completed_at=None, content=[TextContentBlock(text=Text(annotations=[], value='\\nCOSC 121. Page 16\\nIn order to create a clone of an object (i.e., a field-for-field copy of the \\nobject), a class must implement the Cloneableinterface.\\n▪By convention, classes that implement this interface should override \\nObject.clone(which is protected) with a publicmethod\\nCloneable'), type='text')], created_at=1718167450, incomplete_at=None, incomplete_details=None, metadata={}, object='thread.message', role='user', run_id=None, status=None, thread_id='thread_3bwfbAUbHXL27mN1eDOjZmbg')]\n"
     ]
    }
   ],
   "source": [
    "#list messages\n",
    "thread_messages = client.beta.threads.messages.list(\"thread_3bwfbAUbHXL27mN1eDOjZmbg\")\n",
    "print(thread_messages.data)"
   ]
  },
  {
   "cell_type": "code",
   "execution_count": 15,
   "metadata": {},
   "outputs": [],
   "source": [
    "run = client.beta.threads.runs.create(\n",
    "  thread_id=\"thread_3bwfbAUbHXL27mN1eDOjZmbg\",\n",
    "  assistant_id=\"asst_DinWhvsQlMKZfA47pCK9zyR9\"\n",
    ")\n"
   ]
  },
  {
   "cell_type": "code",
   "execution_count": 13,
   "metadata": {},
   "outputs": [
    {
     "name": "stdout",
     "output_type": "stream",
     "text": [
      "Run(id='run_AY8yxDvHNHUBgh5nLbbg4XpH', assistant_id='asst_DinWhvsQlMKZfA47pCK9zyR9', cancelled_at=None, completed_at=None, created_at=1718167689, expires_at=1718168289, failed_at=None, incomplete_details=None, instructions='You will receive a chunk for editing. The chunk is from slides, course materials, and so on. They are subject to lack to textual details. Your tasks are to:\\n\\n1. Remove any unnecessary and unrelated information.\\n2. Expand on topics that are missing details.\\n3. Move existing identifying information into object title.\\n4. Format the document chunks appropriately.\\n\\nExample: \\nOriginal chunk: COSC 121. Page 5\\nDataInputStream\\nWraps around FileInputStream\\n▪ It reads bytes from the input stream → interprets binary data \\n  as primitive types or strings.\\nDataInputStream in =\\nnew DataInputStream(new FileInputStream(“file.dat”));\\nStream chaining is a way of connecting several stream classes \\ntogether to get the data in the form required\\nFileInputStream DataInputStream\\n01001101...\\nint, double, String, ...\\nDataInputStream\\nreadInt() – int(4 bytes)\\n...other methods\\nFileInputStream\\nread() - one byte\\n\\nReturned list json objects: \\n\\n  { \"DataInputStream Overview\": \"DataInputStream wraps around FileInputStream. It reads bytes from the input stream and interprets binary data as primitive types or strings.\\\\nExample:\\\\nDataInputStream in = new DataInputStream(new FileInputStream(\\'file.dat\\'));\" },\\n  { \"Stream Chaining\": \"Stream chaining is a way of connecting several stream classes together to get the data in the form required.\\\\nComponents:\\\\n- FileInputStream\\\\n- DataInputStream\\\\nExample:\\\\nFileInputStream DataInputStream\\\\nBinary Data: 01001101...\\\\nData Types: int, double, String, etc.\" }\\n', last_error=None, max_completion_tokens=None, max_prompt_tokens=None, metadata={}, model='gpt-3.5-turbo-0125', object='thread.run', required_action=None, response_format=AssistantResponseFormat(type='json_object'), started_at=None, status='queued', thread_id='thread_3bwfbAUbHXL27mN1eDOjZmbg', tool_choice='auto', tools=[], truncation_strategy=TruncationStrategy(type='auto', last_messages=None), usage=None, temperature=1.0, top_p=1.0, tool_resources={}, parallel_tool_calls=True)\n"
     ]
    }
   ],
   "source": [
    "print(run)"
   ]
  },
  {
   "cell_type": "code",
   "execution_count": 24,
   "metadata": {},
   "outputs": [
    {
     "name": "stdout",
     "output_type": "stream",
     "text": [
      "SyncCursorPage[Message](data=[Message(id='msg_tMzWaH98JYAY2Sk2moYrCUmb', assistant_id='asst_DinWhvsQlMKZfA47pCK9zyR9', attachments=[], completed_at=None, content=[TextContentBlock(text=Text(annotations=[], value='{\\n  \"Two-Phase Commit (2PC) Protocol\": {\\n    \"Overview\": \"The Two-Phase Commit (2PC) Protocol is a protocol used for achieving distributed consensus in a distributed system. It involves two phases of message passing to ensure all sites involved in a transaction are coordinated.\",\\n    \"Statements\": {\\n      \"i\": \"True - The protocol uses two phases of message passing.\",\\n      \"ii\": \"True - The first phase sends a prepare to commit message to each site involved in the transaction.\",\\n      \"iii\": \"True - A site can respond to the prepare to commit message by sending either \\'ready\\' or \\'abort\\'.\",\\n      \"iv\": \"True - If all sites respond with \\'ready\\', the coordinator sends out a \\'commit\\' message to all participating sites.\"\\n    }\\n  }\\n}'), type='text')], created_at=1718172745, incomplete_at=None, incomplete_details=None, metadata={}, object='thread.message', role='assistant', run_id='run_pZo7lZXBXB51Ilb03MHNB7WG', status=None, thread_id='thread_oz73MKHdNv4bF9iDEmOTikea'), Message(id='msg_9aX9YrOhQ1FBCVBfzqMblzBV', assistant_id=None, attachments=[], completed_at=None, content=[TextContentBlock(text=Text(annotations=[], value='\\n42\\nTwo-Phase Commit (2PC) Protocol\\nQuestion:How many of the following statements are true?\\n•i) The protocol uses two phases of message passing.\\n•ii) The first phase sends a prepare to commit message to each site involved in the \\ntransaction.\\n•iii) A site can respond to the prepare to commit message by sending either \"ready\" or \\n\"abort\".\\n•iv) If all sites respond with \"ready\" the coordinator, sends out a \"commit\" message to \\nall participating sites.\\nA)0\\nB) 1\\nC) 2\\nD) 3\\nE) 4'), type='text')], created_at=1718172744, incomplete_at=None, incomplete_details=None, metadata={}, object='thread.message', role='user', run_id=None, status=None, thread_id='thread_oz73MKHdNv4bF9iDEmOTikea')], object='list', first_id='msg_tMzWaH98JYAY2Sk2moYrCUmb', last_id='msg_9aX9YrOhQ1FBCVBfzqMblzBV', has_more=False)\n"
     ]
    }
   ],
   "source": [
    "run = client.beta.threads.create_and_run_poll(\n",
    "    assistant_id=\"asst_DinWhvsQlMKZfA47pCK9zyR9\",\n",
    "    thread={\n",
    "        \"messages\": [\n",
    "            {\"role\": \"user\", \"content\": stuff}\n",
    "        ]\n",
    "    }\n",
    ")\n",
    "\n",
    "if run.status == 'completed': \n",
    "  messages = client.beta.threads.messages.list(\n",
    "    thread_id=run.thread_id\n",
    "  )\n",
    "  print(messages)\n",
    "  client.beta.threads.delete(run.thread_id)\n",
    "else:\n",
    "  print(run.status)"
   ]
  },
  {
   "cell_type": "code",
   "execution_count": 38,
   "metadata": {},
   "outputs": [
    {
     "name": "stdout",
     "output_type": "stream",
     "text": [
      "{\n",
      "  \"Two-Phase Commit (2PC) Protocol\": {\n",
      "    \"Overview\": \"The Two-Phase Commit (2PC) Protocol is a protocol used for achieving distributed consensus in a distributed system. It involves two phases of message passing to ensure all sites involved in a transaction are coordinated.\",\n",
      "    \"Statements\": {\n",
      "      \"i\": \"True - The protocol uses two phases of message passing.\",\n",
      "      \"ii\": \"True - The first phase sends a prepare to commit message to each site involved in the transaction.\",\n",
      "      \"iii\": \"True - A site can respond to the prepare to commit message by sending either 'ready' or 'abort'.\",\n",
      "      \"iv\": \"True - If all sites respond with 'ready', the coordinator sends out a 'commit' message to all participating sites.\"\n",
      "    }\n",
      "  }\n",
      "}\n"
     ]
    }
   ],
   "source": [
    "print(messages.data[0].content[0].text.value)"
   ]
  },
  {
   "cell_type": "code",
   "execution_count": 23,
   "metadata": {},
   "outputs": [
    {
     "name": "stdout",
     "output_type": "stream",
     "text": [
      "queued\n"
     ]
    }
   ],
   "source": []
  }
 ],
 "metadata": {
  "kernelspec": {
   "display_name": "venv",
   "language": "python",
   "name": "python3"
  },
  "language_info": {
   "codemirror_mode": {
    "name": "ipython",
    "version": 3
   },
   "file_extension": ".py",
   "mimetype": "text/x-python",
   "name": "python",
   "nbconvert_exporter": "python",
   "pygments_lexer": "ipython3",
   "version": "3.12.2"
  }
 },
 "nbformat": 4,
 "nbformat_minor": 2
}
